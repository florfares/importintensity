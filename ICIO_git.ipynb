{
 "cells": [
  {
   "cell_type": "markdown",
   "id": "a5ce8962",
   "metadata": {},
   "source": [
    "## Bajar la base"
   ]
  },
  {
   "cell_type": "code",
   "execution_count": null,
   "id": "5df26a50",
   "metadata": {},
   "outputs": [],
   "source": [
    "#Si no está descargado, es importante bajar el paquete pymrio\n",
    "#!pip install pymrio   \n",
    "import pymrio\n",
    "from pathlib import Path"
   ]
  },
  {
   "cell_type": "code",
   "execution_count": null,
   "id": "f8c5f95a",
   "metadata": {
    "scrolled": true
   },
   "outputs": [],
   "source": [
    "oecd_storage = Path(\"/tmp/mrios/OECD\")"
   ]
  },
  {
   "cell_type": "code",
   "execution_count": null,
   "id": "76da4642",
   "metadata": {},
   "outputs": [],
   "source": [
    "#elegir el año correspondiente\n",
    "meta_download = pymrio.download_oecd(storage_folder=oecd_storage, years=[2018])"
   ]
  },
  {
   "cell_type": "code",
   "execution_count": null,
   "id": "6a30dc21",
   "metadata": {},
   "outputs": [],
   "source": [
    "oecd_path_year = pymrio.parse_oecd(path=oecd_storage, year=2018)"
   ]
  },
  {
   "cell_type": "code",
   "execution_count": null,
   "id": "6f14fbcc",
   "metadata": {},
   "outputs": [],
   "source": [
    "oecd_path_year.factor_inputs.F.head()  #descargó la ICIO"
   ]
  },
  {
   "cell_type": "code",
   "execution_count": null,
   "id": "98d65dab",
   "metadata": {},
   "outputs": [],
   "source": [
    "df=oecd_path_year\n",
    "df?"
   ]
  },
  {
   "cell_type": "code",
   "execution_count": null,
   "id": "eaad3b9b",
   "metadata": {},
   "outputs": [],
   "source": [
    "df_calculated= df.calc_all()  #de esta forma calcula la inversa de leontief y la matriz de coeficientes directos"
   ]
  },
  {
   "cell_type": "markdown",
   "id": "7a823f4f",
   "metadata": {},
   "source": [
    "## Manipular la base"
   ]
  },
  {
   "cell_type": "markdown",
   "id": "4a22ee12",
   "metadata": {},
   "source": [
    "Si se quiere elegir otros paises, seleccionar todas las celdas hasta el final, ir a **Editar** > **Encontrar y reemplazar** y cambiar la abreviatura del pais de tres letras por el correspondiente de la consulta. Luego correr el código."
   ]
  },
  {
   "cell_type": "code",
   "execution_count": null,
   "id": "4b533462",
   "metadata": {},
   "outputs": [],
   "source": [
    "import pandas as pd\n",
    "import numpy as np"
   ]
  },
  {
   "cell_type": "code",
   "execution_count": null,
   "id": "5f1fa356",
   "metadata": {},
   "outputs": [],
   "source": [
    "ARG_Y=df_calculated.Y.ARG  #matrix final demand\n",
    "ARG_L=df_calculated.L.ARG  #inverse of leontief\n",
    "ARG_Z=df_calculated.Z.ARG  #domestic demand"
   ]
  },
  {
   "cell_type": "code",
   "execution_count": null,
   "id": "40c624c3",
   "metadata": {},
   "outputs": [],
   "source": [
    "sector_list=list(df_calculated.get_sectors())\n",
    "region_list=list(df_calculated.get_regions())\n",
    "region='ARG'"
   ]
  },
  {
   "cell_type": "code",
   "execution_count": null,
   "id": "d4c945b3",
   "metadata": {},
   "outputs": [],
   "source": [
    "len(sector_list) #cantidad de sectores\n",
    "print('cantidad de sectores:', len(sector_list), '\\ncantidad de paises:', len(region_list))"
   ]
  },
  {
   "cell_type": "code",
   "execution_count": null,
   "id": "11a817b9",
   "metadata": {},
   "outputs": [],
   "source": [
    "m_identidad=np.identity(len(sector_list))  #matrix identidad\n",
    "h_1=np.array([1 for v in range(len(sector_list))], dtype=int) #creo un vector horizontal de 1\n",
    "v_1=np.array([[1] for v in range(len(sector_list))], dtype=int) #creo un vector vertical de 1"
   ]
  },
  {
   "cell_type": "markdown",
   "id": "53165d90",
   "metadata": {},
   "source": [
    "### Componentes directos e indirectos de la demanda doméstica"
   ]
  },
  {
   "cell_type": "code",
   "execution_count": null,
   "id": "13c9441b",
   "metadata": {},
   "outputs": [],
   "source": [
    "leontief_ARG=ARG_L.loc[('ARG')] #leontief inverse from Spain\n",
    "# should have 45 obs.\n",
    "chequeo=list([x>1 for x in np.diagonal(leontief_ARG) ])\n",
    "len(chequeo)"
   ]
  },
  {
   "cell_type": "code",
   "execution_count": null,
   "id": "cf7ec44f",
   "metadata": {},
   "outputs": [],
   "source": [
    "#check that is correct, (all values in main diagonal should be greater than 1)\n",
    "for x in chequeo:\n",
    "    if x==False:\n",
    "        print('error', chequeo.index(x)+1)  #error in the last obs corrARGond to social services, not a real problem\n",
    "                                         # (Activities of households as employers; undifferentiated goods- and services-producing activities of households for own use)\n"
   ]
  },
  {
   "cell_type": "markdown",
   "id": "efb8e615",
   "metadata": {},
   "source": [
    "### Exportaciones de ARG al resto del mundo"
   ]
  },
  {
   "cell_type": "code",
   "execution_count": null,
   "id": "113ec183",
   "metadata": {
    "scrolled": true
   },
   "outputs": [],
   "source": [
    "del df_calculated.Y['ARG']\n",
    "del df_calculated.Z['ARG']"
   ]
  },
  {
   "cell_type": "markdown",
   "id": "9304131b",
   "metadata": {},
   "source": [
    "#### Expo demandada por estructura productiva extranjera"
   ]
  },
  {
   "cell_type": "code",
   "execution_count": null,
   "id": "ea8f7d23",
   "metadata": {},
   "outputs": [],
   "source": [
    "expo_internas=np.sum(df_calculated.Z.loc[('ARG')], axis=1)"
   ]
  },
  {
   "cell_type": "code",
   "execution_count": null,
   "id": "42970f7c",
   "metadata": {},
   "outputs": [],
   "source": [
    "expo_internas.head()"
   ]
  },
  {
   "cell_type": "code",
   "execution_count": null,
   "id": "f644ebbb",
   "metadata": {},
   "outputs": [],
   "source": []
  },
  {
   "cell_type": "markdown",
   "id": "cee4d82f",
   "metadata": {},
   "source": [
    "#### Expo demanda por componentes de la demanda final ROW"
   ]
  },
  {
   "cell_type": "code",
   "execution_count": null,
   "id": "5dba63b1",
   "metadata": {},
   "outputs": [],
   "source": [
    "df_calculated.Y.loc[('ARG')]\n",
    "expo_df=np.sum(df_calculated.Y.loc[('ARG')], axis=1)"
   ]
  },
  {
   "cell_type": "code",
   "execution_count": null,
   "id": "0699cbcb",
   "metadata": {},
   "outputs": [],
   "source": [
    "expo_df.head()"
   ]
  },
  {
   "cell_type": "code",
   "execution_count": null,
   "id": "46ffe682",
   "metadata": {},
   "outputs": [],
   "source": [
    "X=expo_internas+expo_df\n",
    "X.head()"
   ]
  },
  {
   "cell_type": "markdown",
   "id": "e89dfec7",
   "metadata": {},
   "source": [
    "### Demanda final de la producción nacional"
   ]
  },
  {
   "cell_type": "code",
   "execution_count": null,
   "id": "dfd3ec7f",
   "metadata": {},
   "outputs": [],
   "source": [
    "Fd=ARG_Y.loc[('ARG')] #tomando la demanda de produccion nacional, luego voy a tener que sumarle las impo directas, para obtener la demanda total\n",
    "Fd.head()"
   ]
  },
  {
   "cell_type": "code",
   "execution_count": null,
   "id": "c743f036",
   "metadata": {},
   "outputs": [],
   "source": [
    "Fd['C']=Fd['HFCE']\n",
    "Fd['I']=Fd['GFCF']\n",
    "\n",
    "Fd.rename(columns={'GGFC':'G'}, inplace=True)"
   ]
  },
  {
   "cell_type": "code",
   "execution_count": null,
   "id": "42587278",
   "metadata": {},
   "outputs": [],
   "source": [
    "Fd=Fd.loc[:,['C','G','I']]\n",
    "Fd['X']=X\n",
    "Fd.head()"
   ]
  },
  {
   "cell_type": "markdown",
   "id": "dcae53c2",
   "metadata": {},
   "source": [
    "### Coeficientes de importación"
   ]
  },
  {
   "cell_type": "code",
   "execution_count": null,
   "id": "8135701b",
   "metadata": {},
   "outputs": [],
   "source": [
    "total_pn=np.sum(ARG_Z, axis=0)   ##OJO, ACA PODRIA SER QUE LOS ESTOY CALCULANDO MAL, ES IMPO/DOM+IMPO O IMPO/DOM\n",
    "#chequeo que lo este haciendo bien: total_pn[0] es el total de la primera columna -sector 01T02- de ARG.Z\n",
    "#mientras genero un array con los datos de la primera columna de esta matriz y los sumo con np\n",
    "col1=ARG_Z['01T02']\n",
    "np.sum(col1)  #podria ser tamb print(np.sum(ARG_Z['01T02']))\n",
    "\n",
    "print('comparacion:', total_pn[0],np.sum(col1)) # esta ok."
   ]
  },
  {
   "cell_type": "code",
   "execution_count": null,
   "id": "45187ac7",
   "metadata": {},
   "outputs": [],
   "source": [
    "total_dom=np.sum(ARG_Z.loc[('ARG')], axis=0)  #total de los requerimientos domesticos\n",
    "total_imp=np.sum(ARG_Z.iloc[ARG_Z.index.get_level_values('region') != 'ARG'], axis=0)  #total de los requerimientos importados, le digo que del multiindex region me tome los que no son ARG"
   ]
  },
  {
   "cell_type": "markdown",
   "id": "1dbacd13",
   "metadata": {},
   "source": [
    "#### chequeo"
   ]
  },
  {
   "cell_type": "code",
   "execution_count": null,
   "id": "34e666cd",
   "metadata": {},
   "outputs": [],
   "source": [
    "#chequeo que los totales de dom+impo = \n",
    "chequeo=total_dom+total_imp==total_pn\n",
    "sum(chequeo==False) #hay 26 casos en que no dan igual, será por una diferencia grande?"
   ]
  },
  {
   "cell_type": "code",
   "execution_count": null,
   "id": "6e5eb22b",
   "metadata": {},
   "outputs": [],
   "source": [
    "#generar un DF donde tenga todos los datos y sumar dom+imp manual y cotejar con pn.\n",
    "lista=[total_dom, total_imp, total_pn]\n",
    "base= pd.concat(lista, axis=1)\n",
    "base.columns=['total_dom', 'total_imp', 'total_pn']\n",
    "\n",
    "base['total_manual']=base.total_dom+base.total_imp  #sumado manual\n",
    "base['dif']=round(base.total_pn-base.total_manual, 5) #la diferencia"
   ]
  },
  {
   "cell_type": "code",
   "execution_count": null,
   "id": "6edc4ddd",
   "metadata": {},
   "outputs": [],
   "source": [
    "import matplotlib.pyplot as plot\n",
    "plot.hist(x=base.dif)\n",
    "plot.show()  # la diferencia esta muy cercana a cero."
   ]
  },
  {
   "cell_type": "code",
   "execution_count": null,
   "id": "59a0d01f",
   "metadata": {
    "scrolled": true
   },
   "outputs": [],
   "source": [
    "base['cm']=total_imp/total_pn\n"
   ]
  },
  {
   "cell_type": "code",
   "execution_count": null,
   "id": "e6da6b2b",
   "metadata": {},
   "outputs": [],
   "source": [
    "vector_cm=np.array(base.cm)\n",
    "vector_cm[-1]=0 #coeficiente de importacion de los servicios personales es igual a 0\n",
    "vector_cm"
   ]
  },
  {
   "cell_type": "code",
   "execution_count": null,
   "id": "5da5b70a",
   "metadata": {},
   "outputs": [],
   "source": [
    "m=vector_cm*m_identidad\n",
    "m"
   ]
  },
  {
   "cell_type": "markdown",
   "id": "fc55c3a8",
   "metadata": {},
   "source": [
    "## Importaciones indirectas\n",
    "\n",
    "[Bussiere et al (2013)](https://www.aeaweb.org/articles?id=10.1257/mac.5.3.118)\n",
    "\n",
    "$M_{ind}=m(I-A)^{-1}F_d$"
   ]
  },
  {
   "cell_type": "code",
   "execution_count": null,
   "id": "2768bda0",
   "metadata": {},
   "outputs": [],
   "source": [
    "Mind=np.matmul(np.matmul(m,leontief_ARG),Fd)\n",
    "Mind.columns"
   ]
  },
  {
   "cell_type": "markdown",
   "id": "2e69c752",
   "metadata": {},
   "source": [
    "Arreglar los componetes de demanda final"
   ]
  },
  {
   "cell_type": "code",
   "execution_count": null,
   "id": "449ed2b4",
   "metadata": {},
   "outputs": [],
   "source": [
    "#Mind['C']=Mind.HFCE+Mind.NPISH  # Households final consumption expenditure + Non-profit institutions serving households\n",
    "#Mind['I']=Mind.GFCF+Mind.INVNT # - Gross fixed capital formation + Change in inventories and valuables"
   ]
  },
  {
   "cell_type": "code",
   "execution_count": null,
   "id": "035583c6",
   "metadata": {},
   "outputs": [],
   "source": [
    "#Mind.rename(columns={\"GGFC\": \"G\"}, inplace=True)  # General government final consumption and exports\n",
    "#Mind=Mind.loc[:,['C','G','I']]"
   ]
  },
  {
   "cell_type": "code",
   "execution_count": null,
   "id": "89820e4a",
   "metadata": {},
   "outputs": [],
   "source": [
    "Mind.set_index([df_calculated.get_sectors()]).head()"
   ]
  },
  {
   "cell_type": "markdown",
   "id": "548d7918",
   "metadata": {},
   "source": [
    "## Importaciones directas"
   ]
  },
  {
   "cell_type": "markdown",
   "id": "fe4f0e60",
   "metadata": {},
   "source": [
    "[Bussiere et al (2013)](https://www.aeaweb.org/articles?id=10.1257/mac.5.3.118)\n",
    "\n",
    "Son las filas de venta de sectores del ROW a los componentes de la demanda final doméstica\n",
    "\n",
    "$M_{dir}=F_m$"
   ]
  },
  {
   "cell_type": "code",
   "execution_count": null,
   "id": "c8440336",
   "metadata": {
    "scrolled": true
   },
   "outputs": [],
   "source": [
    "#ventas a la demanda final de ARG por los sectores de otros paises.\n",
    "Mdir=ARG_Y.iloc[ARG_Y.index.get_level_values('region') != 'ARG'].groupby(level=1).sum() \n",
    "Mdir['C']=Mdir['HFCE']\n",
    "Mdir['I']=Mdir['GFCF'] \n",
    "\n",
    "Mdir.rename(columns={'GGFC':'G'}, inplace=True)"
   ]
  },
  {
   "cell_type": "code",
   "execution_count": null,
   "id": "a77b2b9e",
   "metadata": {},
   "outputs": [],
   "source": [
    "Mdir=Mdir.loc[:,['C','G','I']] #es raro que tenga venta directa de otros paises a la demanda externa (X), mejor sacar re-exportaciones\n",
    "Mdir.head()"
   ]
  },
  {
   "cell_type": "markdown",
   "id": "e032e808",
   "metadata": {},
   "source": [
    "## Intensidad importadora de los componentes de demanda\n",
    "\n",
    "[Bussiere et al (2013)](https://www.aeaweb.org/articles?id=10.1257/mac.5.3.118)\n",
    "\n",
    "$w_k=\\frac{uMind_k+uMdir_k}{uFm_k+uFd_k}$  \n",
    "\n",
    "donde `u` un vector de unos"
   ]
  },
  {
   "cell_type": "code",
   "execution_count": null,
   "id": "1447dd17",
   "metadata": {},
   "outputs": [],
   "source": [
    "demanda=['C','G','I']\n",
    "w=[]\n",
    "for x in demanda:\n",
    " w.append((np.matmul(h_1,Mind[x])+np.matmul(h_1,Mdir[x]))/(np.matmul(h_1,Fd[x])+np.matmul(h_1,Mdir[x])))"
   ]
  },
  {
   "cell_type": "code",
   "execution_count": null,
   "id": "2a31e3a3",
   "metadata": {},
   "outputs": [],
   "source": [
    "#exportaciones las pongo aparte porque no aparecen en Mdir\n",
    "w.append((np.matmul(h_1,Mind['X']))/(np.matmul(h_1,Fd['X'])))   "
   ]
  },
  {
   "cell_type": "code",
   "execution_count": null,
   "id": "f2aaf76d",
   "metadata": {
    "scrolled": true
   },
   "outputs": [],
   "source": [
    "w"
   ]
  },
  {
   "cell_type": "code",
   "execution_count": null,
   "id": "5d6e78ec",
   "metadata": {},
   "outputs": [],
   "source": [
    "wdir=[]\n",
    "for x in demanda:\n",
    " wdir.append((np.matmul(h_1,Mdir[x]))/(np.matmul(h_1,Fd[x])+np.matmul(h_1,Mdir[x])))\n"
   ]
  },
  {
   "cell_type": "code",
   "execution_count": null,
   "id": "491e3a03",
   "metadata": {
    "scrolled": true
   },
   "outputs": [],
   "source": [
    "wdir"
   ]
  },
  {
   "cell_type": "code",
   "execution_count": null,
   "id": "e1d32513",
   "metadata": {},
   "outputs": [],
   "source": [
    "wind=[]\n",
    "for x in demanda:\n",
    " wind.append((np.matmul(h_1,Mind[x]))/(np.matmul(h_1,Fd[x])+np.matmul(h_1,Mdir[x])))\n",
    "\n",
    "wind.append((np.matmul(h_1,Mind['X']))/(np.matmul(h_1,Fd['X'])))  "
   ]
  },
  {
   "cell_type": "code",
   "execution_count": null,
   "id": "37ad2449",
   "metadata": {
    "scrolled": true
   },
   "outputs": [],
   "source": [
    "wind"
   ]
  },
  {
   "cell_type": "code",
   "execution_count": null,
   "id": "705a0b01",
   "metadata": {},
   "outputs": [],
   "source": [
    "demanda=['C','G','I','X']\n",
    "df1 = pd.DataFrame(wind,index=demanda)\n",
    "df1.rename({0: 'wind'}, axis=1, inplace=True)"
   ]
  },
  {
   "cell_type": "code",
   "execution_count": null,
   "id": "dd720b08",
   "metadata": {},
   "outputs": [],
   "source": [
    "demanda=['C','G','I']\n",
    "df2 = pd.DataFrame(wdir,index=demanda)\n",
    "df2.rename({0: 'wdir'}, axis=1, inplace=True)"
   ]
  },
  {
   "cell_type": "code",
   "execution_count": null,
   "id": "5fc02908",
   "metadata": {},
   "outputs": [],
   "source": [
    "demanda=pd.Index(['C','G','I','X'])\n",
    "df3 = pd.DataFrame(w,index=demanda)\n",
    "df3.rename({0: 'wgt'}, axis=1, inplace=True)"
   ]
  },
  {
   "cell_type": "code",
   "execution_count": null,
   "id": "d69f2c28",
   "metadata": {},
   "outputs": [],
   "source": [
    "import os\n",
    "os.getcwd()\n",
    "os.chdir(\"...your path...\")"
   ]
  },
  {
   "cell_type": "code",
   "execution_count": null,
   "id": "0add6e26",
   "metadata": {},
   "outputs": [],
   "source": [
    "df=df3.join(df1.join(df2))\n",
    "df.wdir[df['wdir'].isna()==True]=0\n",
    "df"
   ]
  },
  {
   "cell_type": "code",
   "execution_count": null,
   "id": "159810eb",
   "metadata": {},
   "outputs": [],
   "source": [
    "df.to_excel(\"wgt_ICIO18.xlsx\")"
   ]
  },
  {
   "cell_type": "code",
   "execution_count": null,
   "id": "a7475bc1",
   "metadata": {},
   "outputs": [],
   "source": []
  },
  {
   "cell_type": "code",
   "execution_count": null,
   "id": "be5508e4",
   "metadata": {},
   "outputs": [],
   "source": []
  },
  {
   "cell_type": "code",
   "execution_count": null,
   "id": "c8d71766",
   "metadata": {},
   "outputs": [],
   "source": []
  },
  {
   "cell_type": "code",
   "execution_count": null,
   "id": "edb0fdbb",
   "metadata": {},
   "outputs": [],
   "source": []
  },
  {
   "cell_type": "code",
   "execution_count": null,
   "id": "e074fe11",
   "metadata": {},
   "outputs": [],
   "source": []
  }
 ],
 "metadata": {
  "kernelspec": {
   "display_name": "Python 3 (ipykernel)",
   "language": "python",
   "name": "python3"
  },
  "language_info": {
   "codemirror_mode": {
    "name": "ipython",
    "version": 3
   },
   "file_extension": ".py",
   "mimetype": "text/x-python",
   "name": "python",
   "nbconvert_exporter": "python",
   "pygments_lexer": "ipython3",
   "version": "3.11.5"
  }
 },
 "nbformat": 4,
 "nbformat_minor": 5
}
