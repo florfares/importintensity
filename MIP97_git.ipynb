{
 "cells": [
  {
   "cell_type": "markdown",
   "id": "a5ce8962",
   "metadata": {},
   "source": [
    "## Bajar la base"
   ]
  },
  {
   "cell_type": "code",
   "execution_count": null,
   "id": "5df26a50",
   "metadata": {},
   "outputs": [],
   "source": [
    "#Si no está descargado, es importante bajar el paquete pymrio\n",
    "#!pip install pymrio   \n",
    "import pandas as pd\n",
    "import numpy as np\n",
    "import os "
   ]
  },
  {
   "cell_type": "code",
   "execution_count": null,
   "id": "cc926663",
   "metadata": {
    "scrolled": true
   },
   "outputs": [],
   "source": [
    "os.getcwd()"
   ]
  },
  {
   "cell_type": "code",
   "execution_count": null,
   "id": "85703012",
   "metadata": {
    "scrolled": true
   },
   "outputs": [],
   "source": [
    "os.chdir(\"...your path...\")\n",
    "os.listdir()"
   ]
  },
  {
   "cell_type": "markdown",
   "id": "429cfbca",
   "metadata": {},
   "source": [
    "## Matriz de importaciones"
   ]
  },
  {
   "cell_type": "code",
   "execution_count": null,
   "id": "f8c5f95a",
   "metadata": {
    "scrolled": true
   },
   "outputs": [],
   "source": [
    "M=pd.read_excel('mip_matriz4.xls')\n",
    "M_1=M.iloc[6:202,2:]\n",
    "M_1"
   ]
  },
  {
   "cell_type": "code",
   "execution_count": null,
   "id": "fb25830f",
   "metadata": {},
   "outputs": [],
   "source": [
    "#indice en filas\n",
    "index=M_1.loc[7:202]\n",
    "index=index.iloc[:,0]\n",
    "M_2=M_1.loc[7:202].set_index(index)\n",
    "del M_2['Unnamed: 2']\n",
    "M_2"
   ]
  },
  {
   "cell_type": "markdown",
   "id": "78466077",
   "metadata": {},
   "source": [
    "### Demanda intermedia de m"
   ]
  },
  {
   "cell_type": "code",
   "execution_count": null,
   "id": "34494255",
   "metadata": {},
   "outputs": [],
   "source": [
    "#Nombres en columnas\n",
    "M_3=M.iloc[6:7,3:127].values[0] #sectores demanda interna\n",
    "M_3=list(M_3)\n",
    "M_3=pd.Index(M_3)\n",
    "M_3"
   ]
  },
  {
   "cell_type": "code",
   "execution_count": null,
   "id": "b4520123",
   "metadata": {
    "scrolled": true
   },
   "outputs": [],
   "source": [
    "#generar valores por columnas de demanda de importaciones\n",
    "M_di=M.iloc[7:202,3:127].sum()\n",
    "M_di.reindex(M_3)\n",
    "M_di.index=M_3\n",
    "M_di"
   ]
  },
  {
   "cell_type": "code",
   "execution_count": null,
   "id": "79fae3e9",
   "metadata": {},
   "outputs": [],
   "source": [
    "#chequeo\n",
    "M.iloc[6:202,3].head(5)\n",
    "print(M.iloc[6:7,3],M.iloc[7:202,3].sum())"
   ]
  },
  {
   "cell_type": "markdown",
   "id": "3eea49ee",
   "metadata": {},
   "source": [
    "### Demanda final de m"
   ]
  },
  {
   "cell_type": "code",
   "execution_count": null,
   "id": "5f607e51",
   "metadata": {},
   "outputs": [],
   "source": [
    "M.iloc[4:,124:].head(10)"
   ]
  },
  {
   "cell_type": "code",
   "execution_count": null,
   "id": "ce634b8f",
   "metadata": {},
   "outputs": [],
   "source": [
    "X=M.iloc[7:202,130] # son 153 productos de los 195 porque el resto son servicios!\n",
    "\n",
    "C=M.iloc[7:202,133]\n",
    "\n",
    "G=M.iloc[7:202,135]\n",
    "\n",
    "I=M.iloc[7:202,137]\n",
    "\n",
    "\n",
    "for x in [C,G,I,X]:\n",
    "    print(x.sum(), len(x))\n",
    "    \n",
    "#demanda final\n",
    "Fm=pd.concat([C,G,I,X],axis=1)\n",
    "dicty={key: value for key,\n",
    "            value in zip(Fm.columns, ['C','G','I', 'X'])}\n",
    "Fm.rename(dicty, axis=1, inplace=True)\n",
    "Fm"
   ]
  },
  {
   "cell_type": "markdown",
   "id": "773ef4dc",
   "metadata": {},
   "source": [
    "## Coeficientes directos e indirectos (Inversa de Leontief)"
   ]
  },
  {
   "cell_type": "code",
   "execution_count": null,
   "id": "1887340a",
   "metadata": {},
   "outputs": [],
   "source": [
    "L=pd.read_excel('mip_matriz14.xls')\n",
    "L_3=list(L.iloc[6:7,2:127].values[0])#sectores demanda interna\n",
    "L_3"
   ]
  },
  {
   "cell_type": "code",
   "execution_count": null,
   "id": "9287e5b4",
   "metadata": {},
   "outputs": [],
   "source": [
    "L_1=L.iloc[7:131,2:127]\n",
    "\n",
    "#filas\n",
    "L_1.index=L_3    \n",
    "L_1\n",
    "\n",
    "#columnas\n",
    "L_1.columns=L_3\n",
    "L_1"
   ]
  },
  {
   "cell_type": "markdown",
   "id": "82fa7606",
   "metadata": {},
   "source": [
    "## Economia doméstica"
   ]
  },
  {
   "cell_type": "code",
   "execution_count": null,
   "id": "d1127e2e",
   "metadata": {
    "scrolled": true
   },
   "outputs": [],
   "source": [
    "Z=pd.read_excel('mip_matriz12.xls')\n",
    "Z.iloc[6:131,1:126]\n",
    "\n",
    "#demanda final doméstica\n",
    "X=Z.iloc[7:131,129] \n",
    "\n",
    "C=Z.iloc[7:131,132]\n",
    "\n",
    "G=Z.iloc[7:131,134]\n",
    "\n",
    "I=Z.iloc[7:131,136]\n",
    "\n",
    "\n",
    "for x in [C,G,I,X]:\n",
    "    print(x.sum(), len(x))\n",
    "    \n",
    "Fd=pd.concat([C,G,I,X],axis=1)\n",
    "dicty={key: value for key,\n",
    "            value in zip(Fd.columns, ['C','G','I', 'X'])}\n",
    "Fd.rename(dicty, axis=1, inplace=True)\n",
    "Fd.sum()\n",
    "\n",
    "#demanda intermedia doméstica\n",
    "\n",
    "Z_3=list(L.iloc[6:7,2:126].values[0])\n",
    "Z_1=Z.iloc[7:131,2:126]\n",
    "Z_1.index=Z_3\n",
    "Z_1.columns=Z_3\n",
    "Z_1=Z_1.sum()"
   ]
  },
  {
   "cell_type": "code",
   "execution_count": null,
   "id": "7da6427d",
   "metadata": {},
   "outputs": [],
   "source": [
    "Fd.index=L_3\n",
    "Fd"
   ]
  },
  {
   "cell_type": "markdown",
   "id": "dcae53c2",
   "metadata": {},
   "source": [
    "### Coeficientes de importación"
   ]
  },
  {
   "cell_type": "code",
   "execution_count": null,
   "id": "8135701b",
   "metadata": {},
   "outputs": [],
   "source": [
    "m_identidad=np.identity(len(L_3))  #matrix identidad\n",
    "m_identidad\n",
    "\n",
    "\n",
    "vector_cm=pd.DataFrame([Z_1, M_di], index=('Z_1','M_di')).transpose()\n",
    "vector_cm['cm']=vector_cm['M_di']/(vector_cm['M_di']+vector_cm['Z_1'])\n",
    "vector_cm.loc[vector_cm['cm'].isna()]=0\n",
    "del vector_cm['Z_1']\n",
    "del vector_cm['M_di']\n",
    "m=np.array(vector_cm['cm'])*m_identidad\n",
    "m\n",
    "\n",
    "M_di.shape"
   ]
  },
  {
   "cell_type": "markdown",
   "id": "fc55c3a8",
   "metadata": {},
   "source": [
    "## Importaciones indirectas\n",
    "\n",
    "[Bussiere et al (2013)](https://www.aeaweb.org/articles?id=10.1257/mac.5.3.118)\n",
    "\n",
    "$M_{ind}=m(I-A)^{-1}F_d$"
   ]
  },
  {
   "cell_type": "code",
   "execution_count": null,
   "id": "2768bda0",
   "metadata": {},
   "outputs": [],
   "source": [
    "Mind=np.matmul(np.matmul(m,L_1),Fd)\n",
    "Mind"
   ]
  },
  {
   "cell_type": "code",
   "execution_count": null,
   "id": "0507f5be",
   "metadata": {},
   "outputs": [],
   "source": []
  },
  {
   "cell_type": "code",
   "execution_count": null,
   "id": "5076ae49",
   "metadata": {},
   "outputs": [],
   "source": []
  },
  {
   "cell_type": "code",
   "execution_count": null,
   "id": "449ed2b4",
   "metadata": {},
   "outputs": [],
   "source": []
  },
  {
   "cell_type": "code",
   "execution_count": null,
   "id": "035583c6",
   "metadata": {},
   "outputs": [],
   "source": []
  },
  {
   "cell_type": "code",
   "execution_count": null,
   "id": "89820e4a",
   "metadata": {},
   "outputs": [],
   "source": []
  },
  {
   "cell_type": "markdown",
   "id": "548d7918",
   "metadata": {},
   "source": [
    "## Importaciones directas"
   ]
  },
  {
   "cell_type": "markdown",
   "id": "8b563c0d",
   "metadata": {},
   "source": [
    "[Bussiere et al (2013)](https://www.aeaweb.org/articles?id=10.1257/mac.5.3.118)\n",
    "\n",
    "Son las filas de venta de sectores del ROW a los componentes de la demanda final doméstica\n",
    "\n",
    "$M_{dir}=F_m$"
   ]
  },
  {
   "cell_type": "code",
   "execution_count": null,
   "id": "c8440336",
   "metadata": {
    "scrolled": true
   },
   "outputs": [],
   "source": [
    "#Tengo 146 productos, deberia clasificarlos segun los sectores para que sean 124.Ver en el excel matriz_4b_trabajando\n",
    "#primer intento con los 195 productos de las impo porque en C hay un servicio de transporte de pasajeros\n",
    "#que representa el 14% de las impo del secTor. No contemplarlo sesga la estimacion a nivel aggregado\n",
    "Fm"
   ]
  },
  {
   "cell_type": "code",
   "execution_count": null,
   "id": "a77b2b9e",
   "metadata": {},
   "outputs": [],
   "source": []
  },
  {
   "cell_type": "markdown",
   "id": "e032e808",
   "metadata": {},
   "source": [
    "## Intensidad importadora de los componentes de demanda\n",
    "\n",
    "[Bussiere et al (2013)](https://www.aeaweb.org/articles?id=10.1257/mac.5.3.118)\n",
    "\n",
    "$w_k=\\frac{uMind_k+uMdir_k}{uFm_k+uFd_k}$  \n",
    "\n",
    "donde `u` un vector de unos"
   ]
  },
  {
   "cell_type": "code",
   "execution_count": null,
   "id": "009e8d47",
   "metadata": {},
   "outputs": [],
   "source": [
    "h_1124=np.array([1 for v in range(len(L_3))], dtype=int) #creo un vector horizontal de 1\n",
    "h_1195=np.array([1 for v in range(M_2.shape[0])], dtype=int) #creo un vector vertical de 1\n",
    "\n",
    "print(len(h_1124), len(h_1195))\n",
    "h_1195.shape"
   ]
  },
  {
   "cell_type": "code",
   "execution_count": null,
   "id": "1447dd17",
   "metadata": {},
   "outputs": [],
   "source": [
    "demanda=['C','G','I']\n",
    "w=[]\n",
    "for x in demanda:\n",
    " w.append((np.matmul(h_1124,Mind[x])+np.matmul(h_1195,np.array(Fm[x])))/(np.matmul(h_1124,Fd[x])+np.matmul(h_1195,np.array(Fm[x]))))\n",
    "\n"
   ]
  },
  {
   "cell_type": "code",
   "execution_count": null,
   "id": "2a31e3a3",
   "metadata": {},
   "outputs": [],
   "source": [
    "#exportaciones las pongo aparte porque no aparecen en Mdir\n",
    "w.append((np.matmul(h_1124,Mind['X']))/(np.matmul(h_1124,Fd['X'])))   "
   ]
  },
  {
   "cell_type": "code",
   "execution_count": null,
   "id": "f2aaf76d",
   "metadata": {
    "scrolled": true
   },
   "outputs": [],
   "source": [
    "w"
   ]
  },
  {
   "cell_type": "code",
   "execution_count": null,
   "id": "5d6e78ec",
   "metadata": {},
   "outputs": [],
   "source": [
    "wdir=[]\n",
    "for x in demanda:\n",
    " wdir.append((np.matmul(h_1195,Fm[x]))/(np.matmul(h_1124,Fd[x])+np.matmul(h_1195,Fm[x])))\n"
   ]
  },
  {
   "cell_type": "code",
   "execution_count": null,
   "id": "491e3a03",
   "metadata": {
    "scrolled": true
   },
   "outputs": [],
   "source": [
    "wdir"
   ]
  },
  {
   "cell_type": "code",
   "execution_count": null,
   "id": "116fef1f",
   "metadata": {},
   "outputs": [],
   "source": [
    "wind=[]\n",
    "for x in demanda:\n",
    " wind.append((np.matmul(h_1124,Mind[x]))/(np.matmul(h_1124,Fd[x])+np.matmul(h_1195,Fm[x])))\n",
    "\n",
    "wind.append((np.matmul(h_1124,Mind['X']))/(np.matmul(h_1124,Fd['X'])))    #para las expo"
   ]
  },
  {
   "cell_type": "code",
   "execution_count": null,
   "id": "d0e41545",
   "metadata": {
    "scrolled": true
   },
   "outputs": [],
   "source": [
    "wind"
   ]
  },
  {
   "cell_type": "code",
   "execution_count": null,
   "id": "b5da829a",
   "metadata": {},
   "outputs": [],
   "source": [
    "demanda=['C','G','I','X']\n",
    "df1 = pd.DataFrame(wind,index=demanda)\n",
    "df1.rename({0: 'wind'}, axis=1, inplace=True)"
   ]
  },
  {
   "cell_type": "code",
   "execution_count": null,
   "id": "85ac295b",
   "metadata": {},
   "outputs": [],
   "source": [
    "demanda=['C','G','I']\n",
    "df2 = pd.DataFrame(wdir,index=demanda)\n",
    "df2.rename({0: 'wdir'}, axis=1, inplace=True)"
   ]
  },
  {
   "cell_type": "code",
   "execution_count": null,
   "id": "70d4649f",
   "metadata": {},
   "outputs": [],
   "source": [
    "demanda=pd.Index(['C','G','I','X'])\n",
    "df3 = pd.DataFrame(w,index=demanda)\n",
    "df3.rename({0: 'wgt'}, axis=1, inplace=True)"
   ]
  },
  {
   "cell_type": "code",
   "execution_count": null,
   "id": "a1892add",
   "metadata": {},
   "outputs": [],
   "source": [
    "df=df3.join(df1.join(df2))\n",
    "df.wdir[df['wdir'].isna()==True]=0\n",
    "df"
   ]
  },
  {
   "cell_type": "code",
   "execution_count": null,
   "id": "7a8d5d10",
   "metadata": {},
   "outputs": [],
   "source": [
    "import os\n",
    "os.chdir('...your path...')"
   ]
  },
  {
   "cell_type": "code",
   "execution_count": null,
   "id": "33915354",
   "metadata": {},
   "outputs": [],
   "source": [
    "df.to_excel(\"wgt_mip97.xlsx\")"
   ]
  },
  {
   "cell_type": "code",
   "execution_count": null,
   "id": "89a545ea",
   "metadata": {},
   "outputs": [],
   "source": []
  },
  {
   "cell_type": "code",
   "execution_count": null,
   "id": "463edd72",
   "metadata": {},
   "outputs": [],
   "source": []
  },
  {
   "cell_type": "code",
   "execution_count": null,
   "id": "edb0fdbb",
   "metadata": {},
   "outputs": [],
   "source": []
  },
  {
   "cell_type": "code",
   "execution_count": null,
   "id": "ac521737",
   "metadata": {},
   "outputs": [],
   "source": []
  }
 ],
 "metadata": {
  "kernelspec": {
   "display_name": "Python 3 (ipykernel)",
   "language": "python",
   "name": "python3"
  },
  "language_info": {
   "codemirror_mode": {
    "name": "ipython",
    "version": 3
   },
   "file_extension": ".py",
   "mimetype": "text/x-python",
   "name": "python",
   "nbconvert_exporter": "python",
   "pygments_lexer": "ipython3",
   "version": "3.11.5"
  }
 },
 "nbformat": 4,
 "nbformat_minor": 5
}
